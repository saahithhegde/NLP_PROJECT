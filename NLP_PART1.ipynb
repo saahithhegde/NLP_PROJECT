{
  "nbformat": 4,
  "nbformat_minor": 0,
  "metadata": {
    "colab": {
      "name": "NLP_PART1.ipynb",
      "provenance": [],
      "collapsed_sections": [],
      "mount_file_id": "10Ay3xEJaFuTugVJLgmgeJYqATz5SJK0U",
      "authorship_tag": "ABX9TyOyHmuCuf4LaC7OCWwCClFq",
      "include_colab_link": true
    },
    "kernelspec": {
      "name": "python3",
      "display_name": "Python 3"
    },
    "accelerator": "GPU"
  },
  "cells": [
    {
      "cell_type": "markdown",
      "metadata": {
        "id": "view-in-github",
        "colab_type": "text"
      },
      "source": [
        "<a href=\"https://colab.research.google.com/github/saahithhegde/NLP_PROJECT/blob/master/NLP_PART1.ipynb\" target=\"_parent\"><img src=\"https://colab.research.google.com/assets/colab-badge.svg\" alt=\"Open In Colab\"/></a>"
      ]
    },
    {
      "cell_type": "code",
      "metadata": {
        "id": "Hyo32_YgJXN8",
        "colab_type": "code",
        "colab": {
          "base_uri": "https://localhost:8080/",
          "height": 85
        },
        "outputId": "6fe02ef6-6d41-48b6-ae74-97d8210950fb"
      },
      "source": [
        "import spacy\n",
        "from nltk.corpus import wordnet as wn\n",
        "from spacy import displacy\n",
        "from IPython.core.display import display, HTML\n",
        "from nltk.corpus import wordnet as wn\n",
        "import nltk\n",
        "nltk.download('wordnet')\n",
        "\n",
        "TokenNLP = spacy.load(\"en_core_web_sm\")\n",
        "\n",
        "SentenceNLP = spacy.load(\"en_core_web_sm\", disable=[\"tagger\", \"ner\"])\n",
        "SentenceNLP.pipeline\n",
        "\n",
        "outputfile=open(\"outputfile.txt\",\"w\")\n",
        "\n",
        "#custom boundries\n",
        "def custom_sentencizer(doc):\n",
        "    for i, token in enumerate(doc[:-2]):\n",
        "        # Define sentence start if pipe + titlecase token\n",
        "        if token.text == \"I\":\n",
        "            doc[i].is_sent_start = False\n",
        "        if token.text == \"(;\":\n",
        "            doc[i].is_sent_start = False\n",
        "        if token.text == \"(;\":\n",
        "            doc[i+1].is_sent_start = False\n",
        "        if token.text == \"...\":\n",
        "            doc[i+1].is_sent_start = True\n",
        "        if token.text == \":\":\n",
        "            doc[i+1].is_sent_start = False\n",
        "        if token.text == \":\":\n",
        "            doc[i].is_sent_start = False\n",
        "        if token.text == \"the\":\n",
        "            doc[i].is_sent_start = False\n",
        "        if token.text == '.\"':\n",
        "            doc[i+1].is_sent_start = True\n",
        "        if token.text == '.\"':\n",
        "            doc[i].is_sent_start = False\n",
        "        if token.text == 'Inc.':\n",
        "            doc[i].is_sent_start = False\n",
        "        if token.text == 'Inc.':\n",
        "            doc[i+1].is_sent_start = False\n",
        "        if token.text == ', Inc.':\n",
        "            doc[i+1].is_sent_start = False         \n",
        "    return doc\n",
        "\n",
        "SentenceNLP.add_pipe(custom_sentencizer, before=\"parser\")\n",
        "SentenceNLP.pipeline"
      ],
      "execution_count": 83,
      "outputs": [
        {
          "output_type": "stream",
          "text": [
            "[nltk_data] Downloading package wordnet to /root/nltk_data...\n",
            "[nltk_data]   Package wordnet is already up-to-date!\n"
          ],
          "name": "stdout"
        },
        {
          "output_type": "execute_result",
          "data": {
            "text/plain": [
              "[('custom_sentencizer', <function __main__.custom_sentencizer>),\n",
              " ('parser', <spacy.pipeline.pipes.DependencyParser at 0x7f72704f2048>)]"
            ]
          },
          "metadata": {
            "tags": []
          },
          "execution_count": 83
        }
      ]
    },
    {
      "cell_type": "code",
      "metadata": {
        "id": "jzyTt88hxikn",
        "colab_type": "code",
        "colab": {
          "resources": {
            "http://localhost:8080/nbextensions/google.colab/files.js": {
              "data": "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",
              "ok": true,
              "headers": [
                [
                  "content-type",
                  "application/javascript"
                ]
              ],
              "status": 200,
              "status_text": ""
            }
          },
          "base_uri": "https://localhost:8080/",
          "height": 92
        },
        "outputId": "8944495e-7add-492a-9d98-cd972e76234f"
      },
      "source": [
        "from google.colab import files\n",
        "uploaded=files.upload()\n",
        "filename=None\n",
        "for name, data in uploaded.items():\n",
        "  filename=name\n",
        "\n",
        "print(filename)"
      ],
      "execution_count": 61,
      "outputs": [
        {
          "output_type": "display_data",
          "data": {
            "text/html": [
              "\n",
              "     <input type=\"file\" id=\"files-b00d05fa-74ae-43fe-9184-29f84f52a766\" name=\"files[]\" multiple disabled />\n",
              "     <output id=\"result-b00d05fa-74ae-43fe-9184-29f84f52a766\">\n",
              "      Upload widget is only available when the cell has been executed in the\n",
              "      current browser session. Please rerun this cell to enable.\n",
              "      </output>\n",
              "      <script src=\"/nbextensions/google.colab/files.js\"></script> "
            ],
            "text/plain": [
              "<IPython.core.display.HTML object>"
            ]
          },
          "metadata": {
            "tags": []
          }
        },
        {
          "output_type": "stream",
          "text": [
            "Saving Amazon_com.txt to Amazon_com (1).txt\n",
            "Amazon_com.txt\n"
          ],
          "name": "stdout"
        }
      ]
    },
    {
      "cell_type": "code",
      "metadata": {
        "id": "lg631WTqxqCt",
        "colab_type": "code",
        "colab": {}
      },
      "source": [
        "name=input(\"enter file name if you uploaded directly from the left\")\n",
        "filename=name+\".txt\""
      ],
      "execution_count": 0,
      "outputs": []
    },
    {
      "cell_type": "code",
      "metadata": {
        "id": "w1UTt2YaqS-L",
        "colab_type": "code",
        "colab": {
          "base_uri": "https://localhost:8080/",
          "height": 71
        },
        "outputId": "f55d075b-4378-4f59-e437-edee2f0eb269"
      },
      "source": [
        "#to upload a file \n",
        "\n",
        "\n",
        "with open(filename,encoding='utf-8-sig') as fd:\n",
        "  lines = fd.read().splitlines()\n",
        "  while '' in lines:\n",
        "    lines.remove('')\n",
        "print(\"The Document is split by \\\\n and appends each paragraph to the list:\")\n",
        "print(lines)"
      ],
      "execution_count": 65,
      "outputs": [
        {
          "output_type": "stream",
          "text": [
            "The Document is split by \\n and appends each paragraph to the list:\n",
            "['Amazon.com, Inc. (), is an American multinational technology company based in Seattle that focuses on e-commerce, cloud computing, digital streaming, and artificial intelligence. It is considered one of the Big Four tech companies, along with Google, Apple, and Facebook. It\\'s been referred to as \"one of the most influential economic and cultural forces in the world.\"', \"Amazon is known for its disruption of well-established industries through technological innovation and mass scale. It is the world's largest online marketplace, AI assistant provider, and cloud computing platform as measured by revenue and market capitalization. Amazon is the largest Internet company by revenue in the world. It is the second largest private employer in the United States and one of the world's most valuable companies.\", \"Amazon was founded by Jeff Bezos in Bellevue, Washington, in July 1994. The company initially started as an online marketplace for books but later expanded to sell electronics, software, video games, apparel, furniture, food, toys, and jewelry. In 2015, Amazon surpassed Walmart as the most valuable retailer in the United States by market capitalization. In 2017, Amazon acquired Whole Foods Market for US$13.4 billion, which vastly increased Amazon's presence as a brick-and-mortar retailer. In 2018, Bezos announced that its two-day delivery service, Amazon Prime, had surpassed 100 million subscribers worldwide.\", 'Amazon distributes downloads and streaming of video, music, and audiobooks through its Amazon Prime Video, Amazon Music, and Audible subsidiaries. Amazon also has a publishing arm, Amazon Publishing, a film and television studio, Amazon Studios, and a cloud computing subsidiary, Amazon Web Services. It produces consumer electronics including Kindle e-readers, Fire tablets, Fire TV, and Echo devices. In addition, Amazon acquisitions include Ring, Twitch, Whole Foods Market, and IMDb. Among various controversies, the company has been criticized for technological surveillance overreach, a hyper-competitive and demanding work culture, tax avoidance, and anti-competitive practices.', 'History', 'Jeff Bezos founded Amazon in July 1994. He chose Seattle because of technical talent as Microsoft is located there. In May 1997, the organization went public. The company began selling music and videos in 1998, at which time it began operations internationally by acquiring online sellers of books in United Kingdom and Germany. The following year, the organization also sold video games, consumer electronics, home-improvement items, software, games, and toys in addition to other items.', 'In 2002, the corporation started Amazon Web Services (AWS), which provided data on Web site popularity, Internet traffic patterns and other statistics for marketers and developers. In 2006, the organization grew its AWS portfolio when Elastic Compute Cloud (EC2), which rents computer processing power as well as Simple Storage Service (S3), that rents data storage via the Internet, were made available. That same year, the company started Fulfillment by Amazon which managed the inventory of individuals and small companies selling their belongings through the company internet site. In 2012, Amazon bought Kiva Systems to automate its inventory-management business, purchasing Whole Foods Market supermarket chain five years later in 2017.', 'Board of directors', 'As of November 2019, the board of directors is:', '    Jeff Bezos, President, CEO, and Chairman', '    Rosalind Brewer, Group President, and COO, Starbucks', '    Jamie Gorelick, partner, Wilmer Cutler Pickering Hale, and Dorr', '    Daniel P. Huttenlocher, Dean of the Schwarzman College of Computing at the Massachusetts Institute of Technology', '    Judy McGrath, former CEO, MTV Networks', '    Indra Nooyi, former CEO, PepsiCo', '    Jon Rubinstein, former Chairman, and CEO, Palm, Inc.', \"    Thomas O. Ryder, former Chairman, and CEO, Reader's Digest Association\", \"    Patty Stonesifer, President, and CEO, Martha's Table\", '    Wendell P. Weeks, Chairman, President, and CEO, Corning Inc.', 'Merchant partnerships', 'In 2000, U.S. toy retailer Toys \"R\" Us entered into a 10-year agreement with Amazon, valued at $50 million per year plus a cut of sales, under which Toys \"R\" Us would be the exclusive supplier of toys and baby products on the service, and the chain\\'s website would redirect to Amazon\\'s Toys & Games category. In 2004, Toys \"R\" Us sued Amazon, claiming that because of a perceived lack of variety in Toys \"R\" Us stock, Amazon had knowingly allowed third-party sellers to offer items on the service in categories that Toys \"R\" Us had been granted exclusivity. In 2006, a court ruled in favor of Toys \"R\" Us, giving it the right to unwind its agreement with Amazon and establish its own independent e-commerce website. The company was later awarded $51 million in damages.', 'In 2001, Amazon entered into a similar agreement with Borders Group, under which Amazon would comanage Borders.com as a co-branded service. Borders pulled out of the arrangement in 2007, with plans to also launch its own online store.', 'On October 18, 2011, Amazon.com announced a partnership with DC Comics for the exclusive digital rights to many popular comics, including Superman, Batman, Green Lantern, The Sandman, and Watchmen. The partnership has caused well-known bookstores like Barnes & Noble to remove these titles from their shelves.', \"In November 2013, Amazon announced a partnership with the United States Postal Service to begin delivering orders on Sundays. The service, included in Amazon's standard shipping rates, initiated in metropolitan areas of Los Angeles and New York because of the high-volume and inability to deliver in a timely way, with plans to expand into Dallas, Houston, New Orleans and Phoenix by 2014.\", 'In June 2017, Nike confirmed a \"pilot\" partnership with Amazon to sell goods directly on the platform.', 'As of October 11, 2017, AmazonFresh sold a range of Booths branded products for home delivery in selected areas.', 'In September 2017, Amazon ventured with one of its sellers JV Appario Retail owned by Patni Group which has recorded a total income of US$\\u2009104.44\\u2009million (₹\\u2009759\\u2009crore) in financial year 2017–18.', 'In November 2018, Amazon reached an agreement with Apple Inc. to sell selected products through the service, via the company and selected Apple Authorized Resellers. As a result of this partnership, only Apple Authorized Resellers may sell Apple products on Amazon effective January 4, 2019.', 'Products and services', \"Amazon.com's product lines available at its website include several media (books, DVDs, music CDs, videotapes and software), apparel, baby products, consumer electronics, beauty products, gourmet food, groceries, health and personal-care items, industrial & scientific supplies, kitchen items, jewelry, watches, lawn and garden items, musical instruments, sporting goods, tools, automotive items and toys & games. In August 2019, Amazon applied to have a liquor store in San Francisco, CA as a means to ship beer and alcohol within the city. Amazon has separate retail websites for some countries and also offers international shipping of some of its products to certain other countries.\", 'Amazon.com has a number of products and services available, including:', 'Subsidiaries', 'Amazon owns over 40 subsidiaries, including Zappos, Shopbop, Diapers.com, Kiva Systems (now Amazon Robotics), Audible, Goodreads, Teachstreet, Twitch and IMDb.', 'A9.com', 'A9.com, a company focused on researching and building innovative technology, has been a subsidiary since 2003.', 'Amazon Maritime', 'Amazon Maritime, Inc. holds a Federal Maritime Commission license to operate as a non-vessel-owning common carrier (NVOCC), which enables the company to manage its own shipments from China into the United States.', 'Annapurna Labs', 'In January 2015, Amazon Web Services acquired Annapurna Labs, an Israel-based microelectronics company reputedly for US$350–370M.', 'Audible.com', \"Audible.com is a seller and producer of spoken audio entertainment, information and educational programming on the Internet. Audible sells digital audiobooks, radio and TV programs and audio versions of magazines and newspapers. Through its production arm, Audible Studios, Audible has also become the world's largest producer of downloadable audiobooks. On January 31, 2008, Amazon announced it would buy Audible for about $300 million. The deal closed in March 2008 and Audible became a subsidiary of Amazon.\", 'Beijing Century Joyo Courier Services', 'Beijing Century Joyo Courier Services is a subsidiary of Amazon and it applied for a freight forwarding license with the US Maritime Commission. Amazon is also building out its logistics in trucking and air freight to potentially compete with UPS and FedEx.', 'Brilliance Audio', 'Brilliance Audio is an audiobook publisher founded in 1984 by Michael Snodgrass in Grand Haven, Michigan. The company produced its first 8 audio titles in 1985. The company was purchased by Amazon in 2007 for an undisclosed amount. At the time of the acquisition, Brilliance was producing 12–15 new titles a month. It operates as an independent company within Amazon.', 'In 1984, Brilliance Audio invented a technique for recording twice as much on the same cassette. The technique involved recording on each of the two channels of each stereo track. It has been credited with revolutionizing the burgeoning audiobook market in the mid-1980s since it made unabridged books affordable.', 'ComiXology', 'ComiXology is a cloud-based digital comics platform with over 200 million comic downloads as of September 2013. It offers a selection of more than 40,000 comic books and graphic novels across Android, iOS, Fire OS and Windows 8 devices and over a web browser. Amazon bought the company in April 2014.', 'CreateSpace', 'CreateSpace, which offers self-publishing services for independent content creators, publishers, film studios, and music labels, became a subsidiary in 2009.', 'Eero', 'Eero is a company that manufactures mesh-capable routers. The company was founded in 2015 and is based in San Francisco. Amazon announced it would buy Eero in 2019.', 'Goodreads', 'Goodreads is a \"social cataloging\" website founded in December 2006 and launched in January 2007 by Otis Chandler, a software engineer, and entrepreneur, and Elizabeth Chandler. The website allows individuals to freely search Goodreads\\' extensive user-populated database of books, annotations, and reviews. Users can sign up and register books to generate library catalogs and reading lists. They can also create their own groups of book suggestions and discussions. In December 2007, the site had over 650,000 members and over 10 million books had been added. Amazon bought the company in March 2013.', 'Health Navigator', \"In October 2019, Amazon finalized the acquisition of Health Navigator, a startup developing APIs for online health services. The startup will form part of Amazon Care, which is the company's employee healthcare service. This follows the 2018 purchase of PillPack for under $1 billion, which has also been included into Amazon Care.\", 'Junglee', 'Junglee is a former online shopping service provided by Amazon that enabled customers to search for products from online and offline retailers in India. Junglee started off as a virtual database that was used to extract information off the internet and deliver it to enterprise applications. As it progressed, Junglee started to use its database technology to create a single window marketplace on the internet by making every item from every supplier available for purchase. Web shoppers could locate, compare and transact millions of products from across the Internet shopping mall through one window.', 'Amazon acquired Junglee in 1998, and the website Junglee.com was launched in India in February 2012 as a comparison-shopping website. It curated and enabled searching for a diverse variety of products such as clothing, electronics, toys, jewelry and video games, among others, across thousands of online and offline sellers. Millions of products are browse-able, whereby the client selects a price, and then they are directed to a seller. In November 2017, Amazon closed down Junglee.com and the former domain currently redirects to Amazon India.', 'Kuiper Systems', 'Amazon announced in April 2019 that they would fund and deploy a large broadband satellite internet constellation called \"Project Kuiper\". It is expected to take up to a decade to fully deploy all 3,236 satellites planned for the full constellation in order to provide internet to \"tens of millions of people who lack basic access to broadband internet.\" Amazon has not announced if they intend to sell broadband service directly to consumers, but they will \"offer broadband service through partnerships with other companies.\"', 'The satellites will use an orbit with a height between 590 and 630 km (370 and 390 mi). Kuiper will work in concert with Amazon\\'s previously announced large network of 12 satellite ground station facilities (the \"AWS Ground Station unit\") announced in November 2018. Amazon filed communications license documents with the U.S. regulatory authorities the FCC in July 2019, which included information that the wholly owned Amazon subsidiary that intended to deploy the satellite constellation was Kuiper Systems LLC, based in Seattle, Washington. The Kuiper System will consist of 3,236 satellites operating in 98 orbital planes in three orbital shells, one each at 590 kilometers (370 mi), 610 km (380 mi), and 630 km (390 mi) orbital altitude. The Kuiper System includes high-performance satellites, terrestrial gateways, internetworking technologies, and a range of customer terminals.\"', 'In December 2019, information became public that Amazon is asking the FCC to waive requirements that SpaceX and OneWeb had to follow in order to get their large satellite internet constellations licensed. The FCC has not yet ruled on the request.', \"The president of Kuiper Systems is Rajeev Badyal, a former vice president of SpaceX's Starlink satellite internet constellation. During 2020 the Kuiper team will move to a larger R&D facility in Redmond, Washington.\", 'Lab126', 'Lab126, developers of integrated consumer electronics such as the Kindle, became a subsidiary in 2004.', 'Ring', 'Ring is a home automation company founded by Jamie Siminoff in 2013. It is primarily known for its WiFi powered smart doorbells, but manufactures other devices such as security cameras. Amazon bought Ring for $1 billion USD in 2018.', 'Shelfari', 'Shelfari was a social cataloging website for books. Shelfari users built virtual bookshelves of the titles which they owned or had read and they could rate, review, tag and discuss their books. Users could also create groups that other members could join, create discussions and talk about books, or other topics. Recommendations could be sent to friends on the site for what books to read. Amazon bought the company in August 2008. Shelfari continued to function as an independent book social network within the Amazon until January 2016, when Amazon announced that it would be merging Shelfari with Goodreads and closing down Shelfari.', 'Souq', \"Souq.com is the largest E-Commerce platform in the Middle East based in Dubai, United Arab Emirates. On March 28, 2017, Amazon confirmed it would be acquiring Souq.com for $580 million. Souq.com is now a subsidiary of Amazon, and acts as Amazon's arm into the Middle East region.\", 'Twitch', 'Twitch is a live streaming platform for video, primarily oriented towards video gaming content. The service was first established as a spin-off of a general-interest streaming service known as Justin.tv. Its prominence was eclipsed by that of Twitch, and Justin.tv was eventually shut down by its parent company in August 2014 in order to focus exclusively on Twitch. Later that month, Twitch was acquired by Amazon for $970 million. Through Twitch, Amazon also owns Curse, Inc., an operator of video gaming communities and a provider of VoIP services for gaming. Since the acquisition, Twitch began to sell games directly through the platform, and began offering special features for Amazon Prime subscribers.', 'The site\\'s rapid growth had been boosted primarily by the prominence of major esports competitions on the service, leading GameSpot senior esports editor Rod Breslau to have described the service as \"the ESPN of esports\". As of 2015, the service had over 1.5 million broadcasters and 100 million monthly viewers.', 'Whole Foods Market', 'Whole Foods Market is an American supermarket chain exclusively featuring foods without artificial preservatives, colors, flavors, sweeteners, and hydrogenated fats.', 'On August 23, 2017, it was reported that the Federal Trade Commission approved the merger between Amazon.com and Whole Foods Market. The following day it was announced that the deal would be closed on August 28, 2017.', 'Supply chain', 'Amazon first launched its distribution network in 1997 with two fulfillment centers in Seattle and New Castle, Delaware. Amazon has several types of distribution facilities consisting of crossdock centers, fulfillment centers, sortation centers, delivery stations, Prime now hubs, and Prime air hubs. There are 75 fulfillment centers and 25 sortation centers with over 125,000 employees. Employees are responsible for five basic tasks: unpacking and inspecting incoming goods; placing goods in storage and recording their location; picking goods from their computer recorded locations to make up an individual shipment; sorting and packing orders; and shipping. A computer that records the location of goods and maps out routes for pickers plays a key role: employees carry hand-held computers which communicate with the central computer and monitor their rate of progress.', '    Amazon Flexible Payments Service', '    Amazon Marketplace', '    Amazon Standard Identification Number (ASIN)', '    Camelcamelcamel – a website that tracks the prices of products sold on Amazon.com', '    List of book distributors', '    Internal carbon pricing', \"    Statistically improbable phrases – Amazon.com's phrase extraction technique for indexing books\"]\n"
          ],
          "name": "stdout"
        }
      ]
    },
    {
      "cell_type": "code",
      "metadata": {
        "id": "t9tWLPBZsQfl",
        "colab_type": "code",
        "colab": {
          "base_uri": "https://localhost:8080/",
          "height": 34
        },
        "outputId": "c3b6ed24-7010-4e45-ac7c-92db79500831"
      },
      "source": [
        "#provide some input\n",
        "lines=[]\n",
        "myinput=input(\"Please enter some data\")\n",
        "lines.append(myinput)\n"
      ],
      "execution_count": 71,
      "outputs": [
        {
          "output_type": "stream",
          "text": [
            "Please enter some dataHi this is a Dog.\n"
          ],
          "name": "stdout"
        }
      ]
    },
    {
      "cell_type": "code",
      "metadata": {
        "id": "Zdyju5gdNSBS",
        "colab_type": "code",
        "colab": {
          "base_uri": "https://localhost:8080/",
          "height": 1000
        },
        "outputId": "697dde1d-07b8-4585-c458-47d8c321c249"
      },
      "source": [
        "#PART1 OF THE PROJECT:\n",
        "outputfile=open(\"outputfile.txt\",\"w\")\n",
        "for paragraph in lines:\n",
        "  papradoc = SentenceNLP(paragraph)\n",
        "  for sent in papradoc.sents:\n",
        "    sentence=(sent.text.strip())\n",
        "    tokendoc = TokenNLP(sentence)\n",
        "    tokenlist=[]\n",
        "    lemmalist=[]\n",
        "    poslist=[]\n",
        "    taglist=[]\n",
        "    depedenlist=[]\n",
        "    for token in tokendoc:\n",
        "      tokenlist.append(token.text)\n",
        "      lemmalist.append(token.lemma_)\n",
        "      poslist.append(token.pos_)\n",
        "      taglist.append(token.tag_)\n",
        "      depedenlist.append(token.dep_)\n",
        "    print(\"Sentence:\")\n",
        "    outputfile.writelines(\"Sentence:\\n\")\n",
        "    print(sentence)\n",
        "    outputfile.writelines(sentence+\"\\n\")\n",
        "    print(\"\\n\")\n",
        "    print(\"the tokens of the sentence are:\")\n",
        "    outputfile.writelines(\"the tokens of the sentence are:\\n\")\n",
        "    print(tokenlist)\n",
        "    outputfile.writelines(str(tokenlist)+\"\\n\")\n",
        "    print(\"the lemmas of the sentence are\")\n",
        "    outputfile.writelines(\"the lemmas of the sentence are:\\n\")\n",
        "    print(lemmalist)\n",
        "    outputfile.writelines(str(lemmalist)+\"\\n\")\n",
        "    print(\"the POS TAGS of the sentence are\")\n",
        "    outputfile.writelines(\"the POS TAGS of the sentence are:\\n\")\n",
        "    print(poslist)\n",
        "    outputfile.writelines(str(poslist)+\"\\n\")\n",
        "    print(\"the DEP TAGS of the sentence are\")\n",
        "    outputfile.writelines(\"the DEP TAGS of the sentence are:\\n\")\n",
        "    print(depedenlist)\n",
        "    outputfile.writelines(str(depedenlist)+\"\\n\")\n",
        "    html = displacy.render(tokendoc, style=\"dep\")\n",
        "    print(\"-------------TOKEN DETAILS----------------\")\n",
        "    outputfile.writelines(\"-------------TOKEN DETAILS----------------\\n\")\n",
        "    for token in tokendoc:\n",
        "      print(\"token:\")\n",
        "      outputfile.writelines(\"tokens:\\n\")\n",
        "      print(token.text+\" and lemma is \"+ str(token.lemma_))\n",
        "      outputfile.writelines(token.text+\"  and lemma is \"+ str(token.lemma_)+\"\\n\")\n",
        "      print(\"-------\")\n",
        "      outputfile.writelines(\"-------\\n\")\n",
        "      for ss in wn.synsets(token.lemma_):\n",
        "        print(\"SYSNSET:\"+str(ss))\n",
        "        outputfile.writelines(\"SYSNSET:\"+str(ss)+\"\\n\")\n",
        "        print (\"hypernyms: \"+str(ss.hypernyms())+\" hyponyms: \" + str(ss.hyponyms())+\" holonyms: \" + str(ss.member_holonyms())+\" meronyms: \"+ str(ss.part_meronyms()))\n",
        "        outputfile.writelines(\"hypernyms: \"+str(ss.hypernyms())+\" hyponyms: \"+str(ss.hyponyms())+\" holonyms: \"+str(ss.member_holonyms())+\" meronyms: \"+str(ss.part_meronyms())+\"\\n\")\n",
        "      print(\"-----------------------------------\")\n",
        "      outputfile.writelines(\"-----------------------------------\\n\")\n",
        "\n",
        "\n",
        "    display(HTML(html))\n",
        "    \n",
        "    print(\"***************************************************************\")\n",
        "    outputfile.writelines(\"***************************************************************\\n\")\n",
        "\n",
        "\n",
        "outputfile.close()\n",
        "\n",
        "  \n",
        "\n"
      ],
      "execution_count": 101,
      "outputs": [
        {
          "output_type": "stream",
          "text": [
            "Sentence:\n",
            "Hi this is a Dog.\n",
            "\n",
            "\n",
            "the tokens of the sentence are:\n",
            "['Hi', 'this', 'is', 'a', 'Dog', '.']\n",
            "the lemmas of the sentence are\n",
            "['hi', 'this', 'be', 'a', 'Dog', '.']\n",
            "the POS TAGS of the sentence are\n",
            "['INTJ', 'DET', 'AUX', 'DET', 'PROPN', 'PUNCT']\n",
            "the DEP TAGS of the sentence are\n",
            "['intj', 'nsubj', 'ROOT', 'det', 'attr', 'punct']\n",
            "-------------TOKEN DETAILS----------------\n",
            "token:\n",
            "Hi  and lemma is hi\n",
            "-------\n",
            "SYSNSET:Synset('hello.n.01')\n",
            "hypernyms: [Synset('greeting.n.01')] hyponyms: [] holonyms: [] meronyms: []\n",
            "SYSNSET:Synset('hawaii.n.01')\n",
            "hypernyms: [] hyponyms: [] holonyms: [] meronyms: [Synset('haleakala_national_park.n.01'), Synset('hawaii_volcanoes_national_park.n.01'), Synset('hilo.n.01')]\n",
            "-----------------------------------\n",
            "token:\n",
            "this  and lemma is this\n",
            "-------\n",
            "-----------------------------------\n",
            "token:\n",
            "is  and lemma is be\n",
            "-------\n",
            "SYSNSET:Synset('beryllium.n.01')\n",
            "hypernyms: [Synset('metallic_element.n.01')] hyponyms: [] holonyms: [] meronyms: []\n",
            "SYSNSET:Synset('be.v.01')\n",
            "hypernyms: [] hyponyms: [Synset('abound.v.01'), Synset('accept.v.08'), Synset('account.v.01'), Synset('account_for.v.01'), Synset('act.v.06'), Synset('answer.v.06'), Synset('appear.v.04'), Synset('bake.v.04'), Synset('balance.v.04'), Synset('be_well.v.01'), Synset('beat.v.12'), Synset('begin.v.06'), Synset('begin.v.07'), Synset('belong.v.01'), Synset('belong.v.02'), Synset('belong.v.04'), Synset('belong.v.05'), Synset('breathe.v.04'), Synset('buy.v.03'), Synset('clean.v.05'), Synset('cohere.v.03'), Synset('come_in_for.v.01'), Synset('come_in_handy.v.01'), Synset('compact.v.01'), Synset('compare.v.02'), Synset('confuse.v.02'), Synset('connect.v.07'), Synset('consist.v.02'), Synset('consist.v.04'), Synset('contain.v.04'), Synset('contain.v.05'), Synset('continue.v.10'), Synset('cost.v.01'), Synset('count.v.02'), Synset('count.v.07'), Synset('cover.v.18'), Synset('cut.v.25'), Synset('cut_across.v.02'), Synset('deck.v.01'), Synset('depend.v.01'), Synset('deserve.v.01'), Synset('disagree.v.02'), Synset('distribute.v.09'), Synset('diverge.v.02'), Synset('draw.v.21'), Synset('end.v.03'), Synset('fall.v.04'), Synset('fall.v.16'), Synset('feel.v.04'), Synset('figure.v.02'), Synset('fit.v.07'), Synset('gape.v.02'), Synset('go.v.10'), Synset('gravitate.v.02'), Synset('hail.v.02'), Synset('hang.v.06'), Synset('head.v.04'), Synset('hold.v.17'), Synset('hoodoo.v.01'), Synset('hum.v.02'), Synset('impend.v.01'), Synset('incarnate.v.02'), Synset('iridesce.v.01'), Synset('jumble.v.01'), Synset('kill.v.04'), Synset('lend.v.03'), Synset('let_go.v.02'), Synset('lie.v.04'), Synset('litter.v.01'), Synset('loiter.v.01'), Synset('look.v.02'), Synset('look.v.03'), Synset('lubricate.v.01'), Synset('make.v.31'), Synset('make_sense.v.01'), Synset('measure.v.03'), Synset('mope.v.02'), Synset('object.v.02'), Synset('osculate.v.01'), Synset('owe.v.03'), Synset('pay.v.07'), Synset('point.v.10'), Synset('press.v.08'), Synset('promise.v.04'), Synset('prove.v.01'), Synset('put_out.v.06'), Synset('rage.v.02'), Synset('range.v.01'), Synset('rank.v.01'), Synset('rate.v.02'), Synset('recognize.v.08'), Synset('relate.v.04'), Synset('remain.v.03'), Synset('represent.v.03'), Synset('rest.v.01'), Synset('retard.v.02'), Synset('run.v.05'), Synset('run_into.v.01'), Synset('rut.v.01'), Synset('seem.v.03'), Synset('seethe.v.02'), Synset('sell.v.02'), Synset('sell.v.06'), Synset('sell.v.07'), Synset('shine.v.04'), Synset('shine.v.05'), Synset('sparkle.v.02'), Synset('specify.v.03'), Synset('squat.v.02'), Synset('stagnate.v.01'), Synset('stagnate.v.03'), Synset('stand.v.02'), Synset('stand.v.03'), Synset('stand_by.v.03'), Synset('stay.v.01'), Synset('stay.v.04'), Synset('stick.v.04'), Synset('stink.v.01'), Synset('subtend.v.01'), Synset('suck.v.04'), Synset('suffer.v.06'), Synset('suffer.v.08'), Synset('suit.v.02'), Synset('swim.v.03'), Synset('swim.v.04'), Synset('swing.v.10'), Synset('tend.v.01'), Synset('test.v.04'), Synset('total.v.01'), Synset('translate.v.07'), Synset('transplant.v.02'), Synset('trim.v.05'), Synset('underlie.v.01'), Synset('want.v.02'), Synset('wash.v.05'), Synset('wind.v.02'), Synset('work.v.14')] holonyms: [] meronyms: []\n",
            "SYSNSET:Synset('be.v.02')\n",
            "hypernyms: [] hyponyms: [] holonyms: [] meronyms: []\n",
            "SYSNSET:Synset('be.v.03')\n",
            "hypernyms: [] hyponyms: [Synset('attend.v.01'), Synset('belong.v.03'), Synset('center_on.v.02'), Synset('come.v.10'), Synset('cover.v.03'), Synset('extend.v.06'), Synset('face.v.04'), Synset('follow.v.08'), Synset('go.v.25'), Synset('inhabit.v.02'), Synset('lie.v.01'), Synset('lie.v.06'), Synset('occupy.v.03'), Synset('populate.v.01'), Synset('reach.v.06'), Synset('run.v.03'), Synset('sit.v.02'), Synset('sit.v.07'), Synset('stand_back.v.01'), Synset('straddle.v.01'), Synset('stretch.v.01')] holonyms: [] meronyms: []\n",
            "SYSNSET:Synset('exist.v.01')\n",
            "hypernyms: [] hyponyms: [Synset('coexist.v.02'), Synset('come.v.06'), Synset('distribute.v.08'), Synset('dwell.v.02'), Synset('dwell.v.04'), Synset('endanger.v.01'), Synset('flow.v.04'), Synset('indwell.v.01'), Synset('kick_around.v.01'), Synset('preexist.v.01'), Synset('prevail.v.02')] holonyms: [] meronyms: []\n",
            "SYSNSET:Synset('be.v.05')\n",
            "hypernyms: [] hyponyms: [] holonyms: [] meronyms: []\n",
            "SYSNSET:Synset('equal.v.01')\n",
            "hypernyms: [] hyponyms: [Synset('equate.v.02'), Synset('match.v.01'), Synset('represent.v.01'), Synset('translate.v.06')] holonyms: [] meronyms: []\n",
            "SYSNSET:Synset('constitute.v.01')\n",
            "hypernyms: [] hyponyms: [Synset('compose.v.01'), Synset('fall_into.v.01'), Synset('form.v.02'), Synset('make.v.34'), Synset('present.v.05'), Synset('range.v.04'), Synset('supplement.v.02')] holonyms: [] meronyms: []\n",
            "SYSNSET:Synset('be.v.08')\n",
            "hypernyms: [] hyponyms: [Synset('cox.v.01'), Synset('vet.v.01')] holonyms: [] meronyms: []\n",
            "SYSNSET:Synset('embody.v.02')\n",
            "hypernyms: [Synset('typify.v.02')] hyponyms: [Synset('body.v.01'), Synset('exemplify.v.01')] holonyms: [] meronyms: []\n",
            "SYSNSET:Synset('be.v.10')\n",
            "hypernyms: [Synset('take.v.02')] hyponyms: [] holonyms: [] meronyms: []\n",
            "SYSNSET:Synset('be.v.11')\n",
            "hypernyms: [] hyponyms: [] holonyms: [] meronyms: []\n",
            "SYSNSET:Synset('be.v.12')\n",
            "hypernyms: [Synset('stay.v.01')] hyponyms: [] holonyms: [] meronyms: []\n",
            "SYSNSET:Synset('cost.v.01')\n",
            "hypernyms: [Synset('be.v.01')] hyponyms: [Synset('set_back.v.03')] holonyms: [] meronyms: []\n",
            "-----------------------------------\n",
            "token:\n",
            "a  and lemma is a\n",
            "-------\n",
            "SYSNSET:Synset('angstrom.n.01')\n",
            "hypernyms: [Synset('metric_linear_unit.n.01')] hyponyms: [] holonyms: [] meronyms: [Synset('picometer.n.01')]\n",
            "SYSNSET:Synset('vitamin_a.n.01')\n",
            "hypernyms: [Synset('fat-soluble_vitamin.n.01')] hyponyms: [Synset('vitamin_a1.n.01'), Synset('vitamin_a2.n.01')] holonyms: [] meronyms: []\n",
            "SYSNSET:Synset('deoxyadenosine_monophosphate.n.01')\n",
            "hypernyms: [Synset('nucleotide.n.01')] hyponyms: [] holonyms: [] meronyms: []\n",
            "SYSNSET:Synset('adenine.n.01')\n",
            "hypernyms: [Synset('purine.n.01')] hyponyms: [] holonyms: [] meronyms: []\n",
            "SYSNSET:Synset('ampere.n.02')\n",
            "hypernyms: [Synset('current_unit.n.01')] hyponyms: [] holonyms: [] meronyms: [Synset('milliampere.n.01')]\n",
            "SYSNSET:Synset('a.n.06')\n",
            "hypernyms: [Synset('letter.n.02')] hyponyms: [] holonyms: [Synset('roman_alphabet.n.01')] meronyms: []\n",
            "SYSNSET:Synset('a.n.07')\n",
            "hypernyms: [Synset('blood_group.n.01')] hyponyms: [] holonyms: [] meronyms: []\n",
            "-----------------------------------\n",
            "token:\n",
            "Dog  and lemma is Dog\n",
            "-------\n",
            "SYSNSET:Synset('dog.n.01')\n",
            "hypernyms: [Synset('canine.n.02'), Synset('domestic_animal.n.01')] hyponyms: [Synset('basenji.n.01'), Synset('corgi.n.01'), Synset('cur.n.01'), Synset('dalmatian.n.02'), Synset('great_pyrenees.n.01'), Synset('griffon.n.02'), Synset('hunting_dog.n.01'), Synset('lapdog.n.01'), Synset('leonberg.n.01'), Synset('mexican_hairless.n.01'), Synset('newfoundland.n.01'), Synset('pooch.n.01'), Synset('poodle.n.01'), Synset('pug.n.01'), Synset('puppy.n.01'), Synset('spitz.n.01'), Synset('toy_dog.n.01'), Synset('working_dog.n.01')] holonyms: [Synset('canis.n.01'), Synset('pack.n.06')] meronyms: [Synset('flag.n.07')]\n",
            "SYSNSET:Synset('frump.n.01')\n",
            "hypernyms: [Synset('unpleasant_woman.n.01')] hyponyms: [] holonyms: [] meronyms: []\n",
            "SYSNSET:Synset('dog.n.03')\n",
            "hypernyms: [Synset('chap.n.01')] hyponyms: [] holonyms: [] meronyms: []\n",
            "SYSNSET:Synset('cad.n.01')\n",
            "hypernyms: [Synset('villain.n.01')] hyponyms: [Synset('perisher.n.01')] holonyms: [] meronyms: []\n",
            "SYSNSET:Synset('frank.n.02')\n",
            "hypernyms: [Synset('sausage.n.01')] hyponyms: [Synset('vienna_sausage.n.01')] holonyms: [] meronyms: []\n",
            "SYSNSET:Synset('pawl.n.01')\n",
            "hypernyms: [Synset('catch.n.06')] hyponyms: [] holonyms: [] meronyms: []\n",
            "SYSNSET:Synset('andiron.n.01')\n",
            "hypernyms: [Synset('support.n.10')] hyponyms: [] holonyms: [] meronyms: []\n",
            "SYSNSET:Synset('chase.v.01')\n",
            "hypernyms: [Synset('pursue.v.02')] hyponyms: [Synset('hound.v.01'), Synset('quest.v.02'), Synset('run_down.v.07'), Synset('tree.v.03')] holonyms: [] meronyms: []\n",
            "-----------------------------------\n",
            "token:\n",
            ".  and lemma is .\n",
            "-------\n",
            "-----------------------------------\n"
          ],
          "name": "stdout"
        },
        {
          "output_type": "display_data",
          "data": {
            "text/html": [
              "<svg xmlns=\"http://www.w3.org/2000/svg\" xmlns:xlink=\"http://www.w3.org/1999/xlink\" xml:lang=\"en\" id=\"96aa1ff3322643efb1373626deec36dd-0\" class=\"displacy\" width=\"925\" height=\"312.0\" direction=\"ltr\" style=\"max-width: none; height: 312.0px; color: #000000; background: #ffffff; font-family: Arial; direction: ltr\">\n",
              "<text class=\"displacy-token\" fill=\"currentColor\" text-anchor=\"middle\" y=\"222.0\">\n",
              "    <tspan class=\"displacy-word\" fill=\"currentColor\" x=\"50\">Hi</tspan>\n",
              "    <tspan class=\"displacy-tag\" dy=\"2em\" fill=\"currentColor\" x=\"50\">INTJ</tspan>\n",
              "</text>\n",
              "\n",
              "<text class=\"displacy-token\" fill=\"currentColor\" text-anchor=\"middle\" y=\"222.0\">\n",
              "    <tspan class=\"displacy-word\" fill=\"currentColor\" x=\"225\">this</tspan>\n",
              "    <tspan class=\"displacy-tag\" dy=\"2em\" fill=\"currentColor\" x=\"225\">DET</tspan>\n",
              "</text>\n",
              "\n",
              "<text class=\"displacy-token\" fill=\"currentColor\" text-anchor=\"middle\" y=\"222.0\">\n",
              "    <tspan class=\"displacy-word\" fill=\"currentColor\" x=\"400\">is</tspan>\n",
              "    <tspan class=\"displacy-tag\" dy=\"2em\" fill=\"currentColor\" x=\"400\">AUX</tspan>\n",
              "</text>\n",
              "\n",
              "<text class=\"displacy-token\" fill=\"currentColor\" text-anchor=\"middle\" y=\"222.0\">\n",
              "    <tspan class=\"displacy-word\" fill=\"currentColor\" x=\"575\">a</tspan>\n",
              "    <tspan class=\"displacy-tag\" dy=\"2em\" fill=\"currentColor\" x=\"575\">DET</tspan>\n",
              "</text>\n",
              "\n",
              "<text class=\"displacy-token\" fill=\"currentColor\" text-anchor=\"middle\" y=\"222.0\">\n",
              "    <tspan class=\"displacy-word\" fill=\"currentColor\" x=\"750\">Dog.</tspan>\n",
              "    <tspan class=\"displacy-tag\" dy=\"2em\" fill=\"currentColor\" x=\"750\">PROPN</tspan>\n",
              "</text>\n",
              "\n",
              "<g class=\"displacy-arrow\">\n",
              "    <path class=\"displacy-arc\" id=\"arrow-96aa1ff3322643efb1373626deec36dd-0-0\" stroke-width=\"2px\" d=\"M70,177.0 C70,2.0 400.0,2.0 400.0,177.0\" fill=\"none\" stroke=\"currentColor\"/>\n",
              "    <text dy=\"1.25em\" style=\"font-size: 0.8em; letter-spacing: 1px\">\n",
              "        <textPath xlink:href=\"#arrow-96aa1ff3322643efb1373626deec36dd-0-0\" class=\"displacy-label\" startOffset=\"50%\" side=\"left\" fill=\"currentColor\" text-anchor=\"middle\">intj</textPath>\n",
              "    </text>\n",
              "    <path class=\"displacy-arrowhead\" d=\"M70,179.0 L62,167.0 78,167.0\" fill=\"currentColor\"/>\n",
              "</g>\n",
              "\n",
              "<g class=\"displacy-arrow\">\n",
              "    <path class=\"displacy-arc\" id=\"arrow-96aa1ff3322643efb1373626deec36dd-0-1\" stroke-width=\"2px\" d=\"M245,177.0 C245,89.5 395.0,89.5 395.0,177.0\" fill=\"none\" stroke=\"currentColor\"/>\n",
              "    <text dy=\"1.25em\" style=\"font-size: 0.8em; letter-spacing: 1px\">\n",
              "        <textPath xlink:href=\"#arrow-96aa1ff3322643efb1373626deec36dd-0-1\" class=\"displacy-label\" startOffset=\"50%\" side=\"left\" fill=\"currentColor\" text-anchor=\"middle\">nsubj</textPath>\n",
              "    </text>\n",
              "    <path class=\"displacy-arrowhead\" d=\"M245,179.0 L237,167.0 253,167.0\" fill=\"currentColor\"/>\n",
              "</g>\n",
              "\n",
              "<g class=\"displacy-arrow\">\n",
              "    <path class=\"displacy-arc\" id=\"arrow-96aa1ff3322643efb1373626deec36dd-0-2\" stroke-width=\"2px\" d=\"M595,177.0 C595,89.5 745.0,89.5 745.0,177.0\" fill=\"none\" stroke=\"currentColor\"/>\n",
              "    <text dy=\"1.25em\" style=\"font-size: 0.8em; letter-spacing: 1px\">\n",
              "        <textPath xlink:href=\"#arrow-96aa1ff3322643efb1373626deec36dd-0-2\" class=\"displacy-label\" startOffset=\"50%\" side=\"left\" fill=\"currentColor\" text-anchor=\"middle\">det</textPath>\n",
              "    </text>\n",
              "    <path class=\"displacy-arrowhead\" d=\"M595,179.0 L587,167.0 603,167.0\" fill=\"currentColor\"/>\n",
              "</g>\n",
              "\n",
              "<g class=\"displacy-arrow\">\n",
              "    <path class=\"displacy-arc\" id=\"arrow-96aa1ff3322643efb1373626deec36dd-0-3\" stroke-width=\"2px\" d=\"M420,177.0 C420,2.0 750.0,2.0 750.0,177.0\" fill=\"none\" stroke=\"currentColor\"/>\n",
              "    <text dy=\"1.25em\" style=\"font-size: 0.8em; letter-spacing: 1px\">\n",
              "        <textPath xlink:href=\"#arrow-96aa1ff3322643efb1373626deec36dd-0-3\" class=\"displacy-label\" startOffset=\"50%\" side=\"left\" fill=\"currentColor\" text-anchor=\"middle\">attr</textPath>\n",
              "    </text>\n",
              "    <path class=\"displacy-arrowhead\" d=\"M750.0,179.0 L758.0,167.0 742.0,167.0\" fill=\"currentColor\"/>\n",
              "</g>\n",
              "</svg>"
            ],
            "text/plain": [
              "<IPython.core.display.HTML object>"
            ]
          },
          "metadata": {
            "tags": []
          }
        },
        {
          "output_type": "stream",
          "text": [
            "***************************************************************\n"
          ],
          "name": "stdout"
        }
      ]
    }
  ]
}